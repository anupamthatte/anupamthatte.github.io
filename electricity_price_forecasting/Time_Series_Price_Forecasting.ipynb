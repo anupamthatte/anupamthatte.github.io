{
 "cells": [
  {
   "cell_type": "markdown",
   "metadata": {},
   "source": [
    "# Statistical Model for Electricity Price Forecasting"
   ]
  },
  {
   "cell_type": "markdown",
   "metadata": {},
   "source": [
    "In this notebook I will attempt to use statistical time-series forecasting methods to predict wholesale electricity prices.\n",
    "\n",
    "I will explore the ARMA, ARIMA and SARIMA models from the statsmodels package.\n",
    "https://www.statsmodels.org/"
   ]
  },
  {
   "cell_type": "markdown",
   "metadata": {},
   "source": [
    "I will be working with the electricity price data from the PJM Interconnection.\n",
    "\n",
    "The PJM Interconnection is a regional transmission organization (RTO), that runs a competitive wholesale electricity market, coordinating producers and consumers across all or parts of 13 states and the District of Columbia. The interconnection contains over 11,000 nodes for which hourly day-ahead (DA) and real-time (RT) prices.\n",
    "\n",
    "The data is obtained from: https://dataminer2.pjm.com/feed/rt_hrl_lmps\n",
    "This feed contains hourly Real-Time Energy Market locational marginal pricing (LMP) data for all bus locations, including aggregates. \n"
   ]
  },
  {
   "cell_type": "code",
   "execution_count": 1,
   "metadata": {},
   "outputs": [],
   "source": [
    "%matplotlib inline\n",
    "\n",
    "import sys\n",
    "import pandas as pd\n",
    "import numpy as np\n",
    "import matplotlib\n",
    "import matplotlib.pyplot as plt\n"
   ]
  },
  {
   "cell_type": "code",
   "execution_count": 2,
   "metadata": {},
   "outputs": [],
   "source": [
    "# Read the CSV file into a dataframe\n",
    "rt_lmp = pd.read_csv('rt_hrl_lmps.csv')  "
   ]
  },
  {
   "cell_type": "code",
   "execution_count": 3,
   "metadata": {},
   "outputs": [
    {
     "data": {
      "text/html": [
       "<div>\n",
       "<style scoped>\n",
       "    .dataframe tbody tr th:only-of-type {\n",
       "        vertical-align: middle;\n",
       "    }\n",
       "\n",
       "    .dataframe tbody tr th {\n",
       "        vertical-align: top;\n",
       "    }\n",
       "\n",
       "    .dataframe thead th {\n",
       "        text-align: right;\n",
       "    }\n",
       "</style>\n",
       "<table border=\"1\" class=\"dataframe\">\n",
       "  <thead>\n",
       "    <tr style=\"text-align: right;\">\n",
       "      <th></th>\n",
       "      <th>datetime_beginning_utc</th>\n",
       "      <th>datetime_beginning_ept</th>\n",
       "      <th>pnode_id</th>\n",
       "      <th>pnode_name</th>\n",
       "      <th>voltage</th>\n",
       "      <th>equipment</th>\n",
       "      <th>type</th>\n",
       "      <th>zone</th>\n",
       "      <th>system_energy_price_rt</th>\n",
       "      <th>total_lmp_rt</th>\n",
       "      <th>congestion_price_rt</th>\n",
       "      <th>marginal_loss_price_rt</th>\n",
       "      <th>row_is_current</th>\n",
       "      <th>version_nbr</th>\n",
       "    </tr>\n",
       "  </thead>\n",
       "  <tbody>\n",
       "    <tr>\n",
       "      <th>0</th>\n",
       "      <td>1/1/2019 5:00:00 AM</td>\n",
       "      <td>1/1/2019 12:00:00 AM</td>\n",
       "      <td>1</td>\n",
       "      <td>PJM-RTO</td>\n",
       "      <td>NaN</td>\n",
       "      <td>NaN</td>\n",
       "      <td>ZONE</td>\n",
       "      <td>NaN</td>\n",
       "      <td>18.03</td>\n",
       "      <td>18.039782</td>\n",
       "      <td>0.0</td>\n",
       "      <td>0.008116</td>\n",
       "      <td>True</td>\n",
       "      <td>1</td>\n",
       "    </tr>\n",
       "    <tr>\n",
       "      <th>1</th>\n",
       "      <td>1/1/2019 6:00:00 AM</td>\n",
       "      <td>1/1/2019 1:00:00 AM</td>\n",
       "      <td>1</td>\n",
       "      <td>PJM-RTO</td>\n",
       "      <td>NaN</td>\n",
       "      <td>NaN</td>\n",
       "      <td>ZONE</td>\n",
       "      <td>NaN</td>\n",
       "      <td>17.77</td>\n",
       "      <td>17.775893</td>\n",
       "      <td>0.0</td>\n",
       "      <td>0.008393</td>\n",
       "      <td>True</td>\n",
       "      <td>1</td>\n",
       "    </tr>\n",
       "    <tr>\n",
       "      <th>2</th>\n",
       "      <td>1/1/2019 7:00:00 AM</td>\n",
       "      <td>1/1/2019 2:00:00 AM</td>\n",
       "      <td>1</td>\n",
       "      <td>PJM-RTO</td>\n",
       "      <td>NaN</td>\n",
       "      <td>NaN</td>\n",
       "      <td>ZONE</td>\n",
       "      <td>NaN</td>\n",
       "      <td>16.36</td>\n",
       "      <td>16.371294</td>\n",
       "      <td>0.0</td>\n",
       "      <td>0.007960</td>\n",
       "      <td>True</td>\n",
       "      <td>1</td>\n",
       "    </tr>\n",
       "    <tr>\n",
       "      <th>3</th>\n",
       "      <td>1/1/2019 8:00:00 AM</td>\n",
       "      <td>1/1/2019 3:00:00 AM</td>\n",
       "      <td>1</td>\n",
       "      <td>PJM-RTO</td>\n",
       "      <td>NaN</td>\n",
       "      <td>NaN</td>\n",
       "      <td>ZONE</td>\n",
       "      <td>NaN</td>\n",
       "      <td>12.27</td>\n",
       "      <td>12.279325</td>\n",
       "      <td>0.0</td>\n",
       "      <td>0.005159</td>\n",
       "      <td>True</td>\n",
       "      <td>1</td>\n",
       "    </tr>\n",
       "    <tr>\n",
       "      <th>4</th>\n",
       "      <td>1/1/2019 9:00:00 AM</td>\n",
       "      <td>1/1/2019 4:00:00 AM</td>\n",
       "      <td>1</td>\n",
       "      <td>PJM-RTO</td>\n",
       "      <td>NaN</td>\n",
       "      <td>NaN</td>\n",
       "      <td>ZONE</td>\n",
       "      <td>NaN</td>\n",
       "      <td>6.24</td>\n",
       "      <td>6.241449</td>\n",
       "      <td>0.0</td>\n",
       "      <td>0.002282</td>\n",
       "      <td>True</td>\n",
       "      <td>1</td>\n",
       "    </tr>\n",
       "  </tbody>\n",
       "</table>\n",
       "</div>"
      ],
      "text/plain": [
       "  datetime_beginning_utc datetime_beginning_ept  pnode_id pnode_name  voltage  \\\n",
       "0    1/1/2019 5:00:00 AM   1/1/2019 12:00:00 AM         1    PJM-RTO      NaN   \n",
       "1    1/1/2019 6:00:00 AM    1/1/2019 1:00:00 AM         1    PJM-RTO      NaN   \n",
       "2    1/1/2019 7:00:00 AM    1/1/2019 2:00:00 AM         1    PJM-RTO      NaN   \n",
       "3    1/1/2019 8:00:00 AM    1/1/2019 3:00:00 AM         1    PJM-RTO      NaN   \n",
       "4    1/1/2019 9:00:00 AM    1/1/2019 4:00:00 AM         1    PJM-RTO      NaN   \n",
       "\n",
       "   equipment  type  zone  system_energy_price_rt  total_lmp_rt  \\\n",
       "0        NaN  ZONE   NaN                   18.03     18.039782   \n",
       "1        NaN  ZONE   NaN                   17.77     17.775893   \n",
       "2        NaN  ZONE   NaN                   16.36     16.371294   \n",
       "3        NaN  ZONE   NaN                   12.27     12.279325   \n",
       "4        NaN  ZONE   NaN                    6.24      6.241449   \n",
       "\n",
       "   congestion_price_rt  marginal_loss_price_rt  row_is_current  version_nbr  \n",
       "0                  0.0                0.008116            True            1  \n",
       "1                  0.0                0.008393            True            1  \n",
       "2                  0.0                0.007960            True            1  \n",
       "3                  0.0                0.005159            True            1  \n",
       "4                  0.0                0.002282            True            1  "
      ]
     },
     "execution_count": 3,
     "metadata": {},
     "output_type": "execute_result"
    }
   ],
   "source": [
    "rt_lmp.head()"
   ]
  },
  {
   "cell_type": "code",
   "execution_count": 4,
   "metadata": {},
   "outputs": [],
   "source": [
    "# Convert column to datetime\n",
    "rt_lmp['datetime'] = pd.to_datetime(rt_lmp['datetime_beginning_ept'])\n",
    "# Select the datetime and total LMP columns\n",
    "rt_lmp = rt_lmp[['datetime','total_lmp_rt']]\n"
   ]
  },
  {
   "cell_type": "code",
   "execution_count": 5,
   "metadata": {},
   "outputs": [
    {
     "data": {
      "text/html": [
       "<div>\n",
       "<style scoped>\n",
       "    .dataframe tbody tr th:only-of-type {\n",
       "        vertical-align: middle;\n",
       "    }\n",
       "\n",
       "    .dataframe tbody tr th {\n",
       "        vertical-align: top;\n",
       "    }\n",
       "\n",
       "    .dataframe thead th {\n",
       "        text-align: right;\n",
       "    }\n",
       "</style>\n",
       "<table border=\"1\" class=\"dataframe\">\n",
       "  <thead>\n",
       "    <tr style=\"text-align: right;\">\n",
       "      <th></th>\n",
       "      <th>datetime</th>\n",
       "      <th>total_lmp_rt</th>\n",
       "    </tr>\n",
       "  </thead>\n",
       "  <tbody>\n",
       "    <tr>\n",
       "      <th>0</th>\n",
       "      <td>2019-01-01 00:00:00</td>\n",
       "      <td>18.039782</td>\n",
       "    </tr>\n",
       "    <tr>\n",
       "      <th>1</th>\n",
       "      <td>2019-01-01 01:00:00</td>\n",
       "      <td>17.775893</td>\n",
       "    </tr>\n",
       "    <tr>\n",
       "      <th>2</th>\n",
       "      <td>2019-01-01 02:00:00</td>\n",
       "      <td>16.371294</td>\n",
       "    </tr>\n",
       "    <tr>\n",
       "      <th>3</th>\n",
       "      <td>2019-01-01 03:00:00</td>\n",
       "      <td>12.279325</td>\n",
       "    </tr>\n",
       "    <tr>\n",
       "      <th>4</th>\n",
       "      <td>2019-01-01 04:00:00</td>\n",
       "      <td>6.241449</td>\n",
       "    </tr>\n",
       "  </tbody>\n",
       "</table>\n",
       "</div>"
      ],
      "text/plain": [
       "             datetime  total_lmp_rt\n",
       "0 2019-01-01 00:00:00     18.039782\n",
       "1 2019-01-01 01:00:00     17.775893\n",
       "2 2019-01-01 02:00:00     16.371294\n",
       "3 2019-01-01 03:00:00     12.279325\n",
       "4 2019-01-01 04:00:00      6.241449"
      ]
     },
     "execution_count": 5,
     "metadata": {},
     "output_type": "execute_result"
    }
   ],
   "source": [
    "rt_lmp.head()"
   ]
  },
  {
   "cell_type": "code",
   "execution_count": 6,
   "metadata": {},
   "outputs": [],
   "source": [
    "# Select the training dataset for the forecast model\n",
    "# The training data date range is taken as 7 days\n",
    "mask = (rt_lmp['datetime'] >= '1/1/2019') & (rt_lmp['datetime'] < '1/8/2019')\n",
    "\n",
    "rt_lmp_train = rt_lmp.loc[mask]"
   ]
  },
  {
   "cell_type": "code",
   "execution_count": 7,
   "metadata": {},
   "outputs": [
    {
     "data": {
      "text/html": [
       "<div>\n",
       "<style scoped>\n",
       "    .dataframe tbody tr th:only-of-type {\n",
       "        vertical-align: middle;\n",
       "    }\n",
       "\n",
       "    .dataframe tbody tr th {\n",
       "        vertical-align: top;\n",
       "    }\n",
       "\n",
       "    .dataframe thead th {\n",
       "        text-align: right;\n",
       "    }\n",
       "</style>\n",
       "<table border=\"1\" class=\"dataframe\">\n",
       "  <thead>\n",
       "    <tr style=\"text-align: right;\">\n",
       "      <th></th>\n",
       "      <th>datetime</th>\n",
       "      <th>total_lmp_rt</th>\n",
       "    </tr>\n",
       "  </thead>\n",
       "  <tbody>\n",
       "    <tr>\n",
       "      <th>0</th>\n",
       "      <td>2019-01-01 00:00:00</td>\n",
       "      <td>18.039782</td>\n",
       "    </tr>\n",
       "    <tr>\n",
       "      <th>1</th>\n",
       "      <td>2019-01-01 01:00:00</td>\n",
       "      <td>17.775893</td>\n",
       "    </tr>\n",
       "    <tr>\n",
       "      <th>2</th>\n",
       "      <td>2019-01-01 02:00:00</td>\n",
       "      <td>16.371294</td>\n",
       "    </tr>\n",
       "    <tr>\n",
       "      <th>3</th>\n",
       "      <td>2019-01-01 03:00:00</td>\n",
       "      <td>12.279325</td>\n",
       "    </tr>\n",
       "    <tr>\n",
       "      <th>4</th>\n",
       "      <td>2019-01-01 04:00:00</td>\n",
       "      <td>6.241449</td>\n",
       "    </tr>\n",
       "  </tbody>\n",
       "</table>\n",
       "</div>"
      ],
      "text/plain": [
       "             datetime  total_lmp_rt\n",
       "0 2019-01-01 00:00:00     18.039782\n",
       "1 2019-01-01 01:00:00     17.775893\n",
       "2 2019-01-01 02:00:00     16.371294\n",
       "3 2019-01-01 03:00:00     12.279325\n",
       "4 2019-01-01 04:00:00      6.241449"
      ]
     },
     "execution_count": 7,
     "metadata": {},
     "output_type": "execute_result"
    }
   ],
   "source": [
    "rt_lmp_train.head()"
   ]
  },
  {
   "cell_type": "code",
   "execution_count": 8,
   "metadata": {},
   "outputs": [
    {
     "data": {
      "text/html": [
       "<div>\n",
       "<style scoped>\n",
       "    .dataframe tbody tr th:only-of-type {\n",
       "        vertical-align: middle;\n",
       "    }\n",
       "\n",
       "    .dataframe tbody tr th {\n",
       "        vertical-align: top;\n",
       "    }\n",
       "\n",
       "    .dataframe thead th {\n",
       "        text-align: right;\n",
       "    }\n",
       "</style>\n",
       "<table border=\"1\" class=\"dataframe\">\n",
       "  <thead>\n",
       "    <tr style=\"text-align: right;\">\n",
       "      <th></th>\n",
       "      <th>datetime</th>\n",
       "      <th>total_lmp_rt</th>\n",
       "    </tr>\n",
       "  </thead>\n",
       "  <tbody>\n",
       "    <tr>\n",
       "      <th>163</th>\n",
       "      <td>2019-01-07 19:00:00</td>\n",
       "      <td>23.517063</td>\n",
       "    </tr>\n",
       "    <tr>\n",
       "      <th>164</th>\n",
       "      <td>2019-01-07 20:00:00</td>\n",
       "      <td>23.750980</td>\n",
       "    </tr>\n",
       "    <tr>\n",
       "      <th>165</th>\n",
       "      <td>2019-01-07 21:00:00</td>\n",
       "      <td>22.981034</td>\n",
       "    </tr>\n",
       "    <tr>\n",
       "      <th>166</th>\n",
       "      <td>2019-01-07 22:00:00</td>\n",
       "      <td>22.030669</td>\n",
       "    </tr>\n",
       "    <tr>\n",
       "      <th>167</th>\n",
       "      <td>2019-01-07 23:00:00</td>\n",
       "      <td>20.378479</td>\n",
       "    </tr>\n",
       "  </tbody>\n",
       "</table>\n",
       "</div>"
      ],
      "text/plain": [
       "               datetime  total_lmp_rt\n",
       "163 2019-01-07 19:00:00     23.517063\n",
       "164 2019-01-07 20:00:00     23.750980\n",
       "165 2019-01-07 21:00:00     22.981034\n",
       "166 2019-01-07 22:00:00     22.030669\n",
       "167 2019-01-07 23:00:00     20.378479"
      ]
     },
     "execution_count": 8,
     "metadata": {},
     "output_type": "execute_result"
    }
   ],
   "source": [
    "rt_lmp_train.tail()"
   ]
  },
  {
   "cell_type": "code",
   "execution_count": 9,
   "metadata": {},
   "outputs": [
    {
     "data": {
      "text/plain": [
       "(array([737060., 737061., 737062., 737063., 737064., 737065., 737066.,\n",
       "        737067.]), <a list of 8 Text xticklabel objects>)"
      ]
     },
     "execution_count": 9,
     "metadata": {},
     "output_type": "execute_result"
    },
    {
     "data": {
      "image/png": "[encoded data removed]",
      "text/plain": [
       "<Figure size 432x288 with 1 Axes>"
      ]
     },
     "metadata": {
      "needs_background": "light"
     },
     "output_type": "display_data"
    }
   ],
   "source": [
    "# Plot the LMP data\n",
    "pd.plotting.register_matplotlib_converters()\n",
    "plt.plot(rt_lmp_train['datetime'], rt_lmp_train['total_lmp_rt'])\n",
    "plt.title(\"PJM RT LMP vs Time\")\n",
    "plt.xlabel(\"Hours\")\n",
    "plt.ylabel(\"Price\")\n",
    "plt.xticks(rotation=20)"
   ]
  },
  {
   "cell_type": "markdown",
   "metadata": {},
   "source": [
    "## Decomposition\n",
    "The time series can be decomposed into its three constituent parts: trend, seasonality, and residual."
   ]
  },
  {
   "cell_type": "code",
   "execution_count": 10,
   "metadata": {},
   "outputs": [],
   "source": [
    "rt_lmp_train_val = rt_lmp_train['total_lmp_rt'].values"
   ]
  },
  {
   "cell_type": "code",
   "execution_count": 11,
   "metadata": {},
   "outputs": [],
   "source": [
    "# Decomposition into Trend + Seasonal + Residual\n",
    "from statsmodels.tsa.seasonal import seasonal_decompose\n",
    "\n",
    "ss_decomposition = seasonal_decompose(rt_lmp_train_val, model='additive', freq=1)\n",
    "estimated_trend = ss_decomposition.trend\n",
    "estimated_seasonal = ss_decomposition.seasonal\n",
    "estimated_residual = ss_decomposition.resid"
   ]
  },
  {
   "cell_type": "code",
   "execution_count": 12,
   "metadata": {},
   "outputs": [
    {
     "data": {
      "image/png": "[encoded data removed]",
      "text/plain": [
       "<Figure size 1080x720 with 4 Axes>"
      ]
     },
     "metadata": {
      "needs_background": "light"
     },
     "output_type": "display_data"
    }
   ],
   "source": [
    "# Plot the decomposition results\n",
    "fig, axes = plt.subplots(4, 1, sharex=True, sharey=False)\n",
    "fig.set_figheight(10)\n",
    "fig.set_figwidth(15)\n",
    "\n",
    "axes[0].plot(rt_lmp_train_val, label='Original')\n",
    "axes[0].legend(loc='upper left');\n",
    "\n",
    "axes[1].plot(estimated_trend, label='Trend')\n",
    "axes[1].legend(loc='upper left');\n",
    "\n",
    "axes[2].plot(estimated_seasonal, label='Seasonality')\n",
    "axes[2].legend(loc='upper left');\n",
    "\n",
    "axes[3].plot(estimated_residual, label='Residuals')\n",
    "axes[3].legend(loc='upper left');"
   ]
  },
  {
   "cell_type": "markdown",
   "metadata": {},
   "source": [
    "The entire series was taken as the trend component, and that there was no seasonality.\n",
    "The residual plot shows zero. This indicates that the classical decomposition was not able to separate the data into its constituents."
   ]
  },
  {
   "cell_type": "markdown",
   "metadata": {},
   "source": [
    "Augmented Dickey-Fuller Test\n",
    "\n",
    "This test helps to determin whether a time series is stationary or not.\n",
    "\n",
    "* Null hypothesis: the series is nonstationary.\n",
    "* Alternative hypothesis: the series is stationary.\n"
   ]
  },
  {
   "cell_type": "code",
   "execution_count": 13,
   "metadata": {},
   "outputs": [],
   "source": [
    "from statsmodels.tsa.stattools import adfuller\n",
    "\n",
    "adf, pvalue, usedlag, nobs, critical_values, icbest = adfuller(rt_lmp_train_val)"
   ]
  },
  {
   "cell_type": "code",
   "execution_count": 14,
   "metadata": {},
   "outputs": [
    {
     "name": "stdout",
     "output_type": "stream",
     "text": [
      "8.518109603374794e-06\n"
     ]
    }
   ],
   "source": [
    "# If the pvalue is less than 0.05, we reject the null that this data is nonstationary\n",
    "print(pvalue)"
   ]
  },
  {
   "cell_type": "markdown",
   "metadata": {},
   "source": [
    "## ARMA model\n",
    "The Autoregressive Moving Average model (ARMA) is a popular statistical model for time series forecasting.\n",
    "\n",
    "* Autoregression: where the current value of the series depends linearly on its values in a number of previous time steps.\n",
    "* Moving Average: where the current value of the series depends linearly on the mean and a set of previous error terms."
   ]
  },
  {
   "cell_type": "markdown",
   "metadata": {},
   "source": [
    "### ACF and PACF\n",
    "\n",
    "We can use the Autocorrelation Function (ACF) to choose the order, known as q, of the MA model.\n",
    "Similarly we can plot the Partial Autocorrelation Function (PACF) function to obtain the order p of the AR model"
   ]
  },
  {
   "cell_type": "code",
   "execution_count": 15,
   "metadata": {},
   "outputs": [
    {
     "data": {
      "image/png": "[encoded data removed]",
      "text/plain": [
       "<Figure size 432x288 with 1 Axes>"
      ]
     },
     "metadata": {
      "needs_background": "light"
     },
     "output_type": "display_data"
    }
   ],
   "source": [
    "from statsmodels.graphics.tsaplots import plot_acf\n",
    "\n",
    "fig = plot_acf(rt_lmp_train_val, lags=range(1,15), alpha=0.05)"
   ]
  },
  {
   "cell_type": "markdown",
   "metadata": {},
   "source": [
    "The blue region represents a confidence interval. Alpha in this case was set to 0.05 (95% confidence interval). \n",
    "\n",
    "The stems represent lagged correlation values. Correlations outside of the confidence interval are statistically significant whereas the others are not. \n",
    "\n",
    "Based on the ACF chart, we consider q = 4 order for the MA part."
   ]
  },
  {
   "cell_type": "code",
   "execution_count": 16,
   "metadata": {},
   "outputs": [
    {
     "data": {
      "image/png": "[encoded data removed]",
      "text/plain": [
       "<Figure size 432x288 with 1 Axes>"
      ]
     },
     "metadata": {
      "needs_background": "light"
     },
     "output_type": "display_data"
    }
   ],
   "source": [
    "from statsmodels.graphics.tsaplots import plot_pacf\n",
    "\n",
    "fig = plot_pacf(rt_lmp_train_val, lags=range(1,15), alpha=0.05)"
   ]
  },
  {
   "cell_type": "markdown",
   "metadata": {},
   "source": [
    "Based on the PACF chart, we consider p = 2 order for the AR part."
   ]
  },
  {
   "cell_type": "code",
   "execution_count": 17,
   "metadata": {},
   "outputs": [],
   "source": [
    "from statsmodels.tsa.arima_model import ARMA\n",
    "\n",
    "import warnings\n",
    "warnings.simplefilter(action='ignore', category=FutureWarning)"
   ]
  },
  {
   "cell_type": "code",
   "execution_count": 18,
   "metadata": {},
   "outputs": [],
   "source": [
    "# We try to fit a ARMA model\n",
    "arma_mod = ARMA(rt_lmp_train_val, (4, 2)).fit()"
   ]
  },
  {
   "cell_type": "code",
   "execution_count": 19,
   "metadata": {},
   "outputs": [
    {
     "name": "stdout",
     "output_type": "stream",
     "text": [
      "                              ARMA Model Results                              \n",
      "==============================================================================\n",
      "Dep. Variable:                      y   No. Observations:                  168\n",
      "Model:                     ARMA(4, 2)   Log Likelihood                -463.751\n",
      "Method:                       css-mle   S.D. of innovations              3.767\n",
      "Date:                Sat, 21 Mar 2020   AIC                            943.502\n",
      "Time:                        18:44:48   BIC                            968.494\n",
      "Sample:                             0   HQIC                           953.645\n",
      "                                                                              \n",
      "==============================================================================\n",
      "                 coef    std err          z      P>|z|      [0.025      0.975]\n",
      "------------------------------------------------------------------------------\n",
      "const         22.2871      0.800     27.875      0.000      20.720      23.854\n",
      "ar.L1.y        1.5432      0.079     19.487      0.000       1.388       1.698\n",
      "ar.L2.y       -1.2431      0.139     -8.938      0.000      -1.516      -0.971\n",
      "ar.L3.y        0.3197      0.141      2.272      0.024       0.044       0.595\n",
      "ar.L4.y        0.0874      0.080      1.097      0.274      -0.069       0.244\n",
      "ma.L1.y       -1.1844      0.026    -45.003      0.000      -1.236      -1.133\n",
      "ma.L2.y        1.0000      0.031     32.666      0.000       0.940       1.060\n",
      "                                    Roots                                    \n",
      "=============================================================================\n",
      "                  Real          Imaginary           Modulus         Frequency\n",
      "-----------------------------------------------------------------------------\n",
      "AR.1            0.6239           -0.9150j            1.1074           -0.1548\n",
      "AR.2            0.6239           +0.9150j            1.1074            0.1548\n",
      "AR.3            1.4644           -0.0000j            1.4644           -0.0000\n",
      "AR.4           -6.3682           -0.0000j            6.3682           -0.5000\n",
      "MA.1            0.5922           -0.8058j            1.0000           -0.1491\n",
      "MA.2            0.5922           +0.8058j            1.0000            0.1491\n",
      "-----------------------------------------------------------------------------\n"
     ]
    }
   ],
   "source": [
    "# Print Model Summary\n",
    "print(arma_mod.summary())"
   ]
  },
  {
   "cell_type": "code",
   "execution_count": 20,
   "metadata": {},
   "outputs": [
    {
     "data": {
      "text/plain": [
       "array([22.28714808,  1.54321841, -1.24314594,  0.31967093,  0.08743474,\n",
       "       -1.18437934,  0.99998096])"
      ]
     },
     "execution_count": 20,
     "metadata": {},
     "output_type": "execute_result"
    }
   ],
   "source": [
    "# Print the model coefficients\n",
    "arma_mod.params"
   ]
  },
  {
   "cell_type": "code",
   "execution_count": 21,
   "metadata": {},
   "outputs": [
    {
     "data": {
      "text/plain": [
       "943.5018998613668"
      ]
     },
     "execution_count": 21,
     "metadata": {},
     "output_type": "execute_result"
    }
   ],
   "source": [
    "# Get the AIC\n",
    "arma_mod.aic"
   ]
  },
  {
   "cell_type": "code",
   "execution_count": 22,
   "metadata": {},
   "outputs": [
    {
     "data": {
      "text/plain": [
       "<matplotlib.axes._subplots.AxesSubplot at 0x1accf4b7d68>"
      ]
     },
     "execution_count": 22,
     "metadata": {},
     "output_type": "execute_result"
    },
    {
     "data": {
      "image/png": "[encoded data removed]",
      "text/plain": [
       "<Figure size 432x288 with 1 Axes>"
      ]
     },
     "metadata": {
      "needs_background": "light"
     },
     "output_type": "display_data"
    }
   ],
   "source": [
    "# plot residual errors\n",
    "residuals = pd.DataFrame(arma_mod.resid)\n",
    "residuals.plot()"
   ]
  },
  {
   "cell_type": "code",
   "execution_count": 23,
   "metadata": {},
   "outputs": [],
   "source": [
    "# Get the test data set i.e. the next day\n",
    "mask = (rt_lmp['datetime'] >= '1/8/2019') & (rt_lmp['datetime'] < '1/9/2019')\n",
    "\n",
    "rt_lmp_test = rt_lmp.loc[mask]\n",
    "\n",
    "rt_lmp_test_val = rt_lmp_test['total_lmp_rt'].values"
   ]
  },
  {
   "cell_type": "code",
   "execution_count": 24,
   "metadata": {},
   "outputs": [],
   "source": [
    "# Make predictions for the train and test data\n",
    "ypred = arma_mod.predict(start=1,end=len(rt_lmp_train_val)+len(rt_lmp_test_val))"
   ]
  },
  {
   "cell_type": "code",
   "execution_count": 25,
   "metadata": {},
   "outputs": [],
   "source": [
    "# Fill initial portion with NaN to clearly display the out-of-sample predictions on the plot\n",
    "oos = np.array(ypred, copy=True)\n",
    "oos[0:192-24] = np.NaN"
   ]
  },
  {
   "cell_type": "code",
   "execution_count": 26,
   "metadata": {},
   "outputs": [
    {
     "data": {
      "text/plain": [
       "Text(0.5,1,'ARMA model results')"
      ]
     },
     "execution_count": 26,
     "metadata": {},
     "output_type": "execute_result"
    },
    {
     "data": {
      "image/png": "[encoded data removed]",
      "text/plain": [
       "<Figure size 432x288 with 1 Axes>"
      ]
     },
     "metadata": {
      "needs_background": "light"
     },
     "output_type": "display_data"
    }
   ],
   "source": [
    "# Plot Original series, in-sample and out-of-sample predictions\n",
    "x = rt_lmp.loc[(rt_lmp['datetime'] >= '1/1/2019') & (rt_lmp['datetime'] < '1/9/2019')]\n",
    "x_val = x['total_lmp_rt'].values\n",
    "\n",
    "plt.plot(x_val, label='Original Data')\n",
    "plt.plot(ypred, color='red', label = 'In-Sample')\n",
    "plt.plot(oos, color='green', label = 'Out-of-Sample')\n",
    "plt.legend(loc='best')\n",
    "plt.title('ARMA model results')"
   ]
  },
  {
   "cell_type": "markdown",
   "metadata": {},
   "source": [
    "To confirm my choice of p and q, I use the arma_order_select_ic() method. \n",
    "\n",
    "This computes the selected information criteria (e.g. AIC or BIC) for many ARMA models, and gives us the model with the lowest value."
   ]
  },
  {
   "cell_type": "code",
   "execution_count": 27,
   "metadata": {},
   "outputs": [
    {
     "name": "stdout",
     "output_type": "stream",
     "text": [
      "AIC = (4, 2)\n"
     ]
    }
   ],
   "source": [
    "from statsmodels.tsa.arima_process import arma_generate_sample\n",
    "import statsmodels.api as sm\n",
    "\n",
    "res = sm.tsa.arma_order_select_ic(rt_lmp_train_val, ic='aic')\n",
    "print('AIC =', res.aic_min_order)"
   ]
  },
  {
   "cell_type": "markdown",
   "metadata": {},
   "source": [
    "This matches the orders I had selected earlier."
   ]
  },
  {
   "cell_type": "markdown",
   "metadata": {},
   "source": [
    "## SARIMA\n",
    "\n",
    "The ARIMA model consists of autoregressive, moving average and an integrated element. This allows for considering time series data that have a trend.\n",
    "\n",
    "An extension to ARIMA is the SARIMA model, which considers a seasonal component (i.e. data with a repeating cycle).\n",
    "\n",
    "\n",
    "I will use itertools to automate the model parameter search.\n",
    "\n",
    "DigitalOcean.com has provided a good tutorial on this topic.\n",
    "\n",
    "https://www.digitalocean.com/community/tutorials/a-guide-to-time-series-forecasting-with-arima-in-python-3"
   ]
  },
  {
   "cell_type": "code",
   "execution_count": 28,
   "metadata": {},
   "outputs": [
    {
     "name": "stdout",
     "output_type": "stream",
     "text": [
      "SARIMAX: (0, 0, 1) , (0, 0, 1, 24)\n",
      "SARIMAX: (0, 0, 1) , (0, 0, 2, 24)\n",
      "SARIMAX: (0, 0, 2) , (0, 1, 0, 24)\n",
      "SARIMAX: (0, 0, 2) , (0, 1, 1, 24)\n"
     ]
    }
   ],
   "source": [
    "import itertools\n",
    "\n",
    "p = q = range(0, 3)\n",
    "d = range(0, 2)\n",
    "season = 24\n",
    "\n",
    "# list of all parameter combos\n",
    "pdq = list(itertools.product(p, d, q))\n",
    "\n",
    "# same for seasonal variant\n",
    "seasonal_pdq = [(x[0], x[1], x[2], season) for x in list(itertools.product(p, d, q))]\n",
    "\n",
    "print('SARIMAX: {} , {}'.format(pdq[1], seasonal_pdq[1]))\n",
    "print('SARIMAX: {} , {}'.format(pdq[1], seasonal_pdq[2]))\n",
    "print('SARIMAX: {} , {}'.format(pdq[2], seasonal_pdq[3]))\n",
    "print('SARIMAX: {} , {}'.format(pdq[2], seasonal_pdq[4]))"
   ]
  },
  {
   "cell_type": "code",
   "execution_count": 29,
   "metadata": {},
   "outputs": [],
   "source": [
    "from statsmodels.tsa.statespace.sarimax import SARIMAX"
   ]
  },
  {
   "cell_type": "code",
   "execution_count": 30,
   "metadata": {},
   "outputs": [
    {
     "name": "stdout",
     "output_type": "stream",
     "text": [
      "Lowest AIC so far: ARIMA(0, 0, 0),(0, 0, 0, 24) - AIC:1521.41219234872\n",
      "Lowest AIC so far: ARIMA(0, 0, 0),(0, 0, 1, 24) - AIC:1194.7384058242542\n",
      "Lowest AIC so far: ARIMA(0, 0, 0),(0, 1, 0, 24) - AIC:902.2796852075187\n",
      "Lowest AIC so far: ARIMA(0, 0, 0),(0, 1, 1, 24) - AIC:679.0685657068511\n",
      "Lowest AIC so far: ARIMA(0, 0, 0),(2, 1, 0, 24) - AIC:557.2802917680265\n",
      "Lowest AIC so far: ARIMA(0, 0, 0),(2, 1, 1, 24) - AIC:556.0863789116665\n",
      "Lowest AIC so far: ARIMA(0, 0, 1),(2, 1, 0, 24) - AIC:550.2657993280371\n",
      "Lowest AIC so far: ARIMA(0, 0, 1),(2, 1, 1, 24) - AIC:550.1978558143883\n",
      "Lowest AIC so far: ARIMA(0, 0, 2),(2, 1, 0, 24) - AIC:544.9255643189263\n",
      "Lowest AIC so far: ARIMA(0, 1, 1),(2, 1, 0, 24) - AIC:536.9016211080504\n",
      "Lowest AIC so far: ARIMA(0, 1, 1),(2, 1, 1, 24) - AIC:536.5712057794373\n",
      "Lowest AIC so far: ARIMA(1, 0, 1),(2, 1, 0, 24) - AIC:534.4548580060668\n",
      "Lowest AIC so far: ARIMA(1, 1, 1),(2, 1, 0, 24) - AIC:533.2767123252102\n",
      "Lowest AIC so far: ARIMA(2, 0, 0),(2, 1, 0, 24) - AIC:529.9165135968848\n",
      "Lowest AIC so far: ARIMA(2, 1, 1),(2, 1, 0, 24) - AIC:528.4814300308417\n",
      "Done searching\n"
     ]
    }
   ],
   "source": [
    "import warnings\n",
    "\n",
    "# SARIMA search\n",
    "warnings.filterwarnings(\"ignore\") # specify to ignore warning messages\n",
    "\n",
    "test_value = 10000 # Initialize value to some high number\n",
    "\n",
    "for param in pdq:\n",
    "    for param_seasonal in seasonal_pdq:\n",
    "        try:\n",
    "            mod = SARIMAX(rt_lmp_train_val,\n",
    "                          order=param,\n",
    "                          seasonal_order=param_seasonal,\n",
    "                          enforce_stationarity=False,\n",
    "                          enforce_invertibility=False)\n",
    "\n",
    "            results = mod.fit()\n",
    "\n",
    "            if results.aic < test_value:\n",
    "                test_value = results.aic\n",
    "                print('Lowest AIC so far: ARIMA{},{} - AIC:{}'.format(param, param_seasonal, results.aic))\n",
    "            \n",
    "        except:\n",
    "            continue\n",
    "\n",
    "print(\"Done searching\")"
   ]
  },
  {
   "cell_type": "code",
   "execution_count": 31,
   "metadata": {},
   "outputs": [],
   "source": [
    "# We try to fit a SARIMA model\n",
    "best_sar_mod = SARIMAX(rt_lmp_train_val,\n",
    "                          order=(2,1,1),\n",
    "                          seasonal_order=(2,1,0,24),\n",
    "                          enforce_stationarity=False,\n",
    "                          enforce_invertibility=False).fit()"
   ]
  },
  {
   "cell_type": "code",
   "execution_count": 32,
   "metadata": {},
   "outputs": [
    {
     "name": "stdout",
     "output_type": "stream",
     "text": [
      "                                 Statespace Model Results                                 \n",
      "==========================================================================================\n",
      "Dep. Variable:                                  y   No. Observations:                  168\n",
      "Model:             SARIMAX(2, 1, 1)x(2, 1, 0, 24)   Log Likelihood                -258.241\n",
      "Date:                            Sat, 21 Mar 2020   AIC                            528.481\n",
      "Time:                                    19:10:29   BIC                            543.677\n",
      "Sample:                                         0   HQIC                           534.617\n",
      "                                            - 168                                         \n",
      "Covariance Type:                              opg                                         \n",
      "==============================================================================\n",
      "                 coef    std err          z      P>|z|      [0.025      0.975]\n",
      "------------------------------------------------------------------------------\n",
      "ar.L1          0.1528      0.220      0.696      0.487      -0.278       0.583\n",
      "ar.L2          0.1723      0.188      0.915      0.360      -0.197       0.541\n",
      "ma.L1         -0.8915      0.146     -6.120      0.000      -1.177      -0.606\n",
      "ar.S.L24      -0.7114      0.160     -4.459      0.000      -1.024      -0.399\n",
      "ar.S.L48      -0.1904      0.108     -1.759      0.079      -0.403       0.022\n",
      "sigma2        15.0438      1.207     12.469      0.000      12.679      17.409\n",
      "===================================================================================\n",
      "Ljung-Box (Q):                       21.53   Jarque-Bera (JB):               789.64\n",
      "Prob(Q):                              0.99   Prob(JB):                         0.00\n",
      "Heteroskedasticity (H):               2.76   Skew:                             2.62\n",
      "Prob(H) (two-sided):                  0.01   Kurtosis:                        16.28\n",
      "===================================================================================\n",
      "\n",
      "Warnings:\n",
      "[1] Covariance matrix calculated using the outer product of gradients (complex-step).\n"
     ]
    }
   ],
   "source": [
    "# Summary\n",
    "print(best_sar_mod.summary())"
   ]
  },
  {
   "cell_type": "code",
   "execution_count": 33,
   "metadata": {},
   "outputs": [],
   "source": [
    "# Make predictions using SARIMA\n",
    "ypred_sar = best_sar_mod.predict(start=1,end=len(rt_lmp_train_val)+len(rt_lmp_test_val))"
   ]
  },
  {
   "cell_type": "code",
   "execution_count": 34,
   "metadata": {},
   "outputs": [
    {
     "data": {
      "text/plain": [
       "Text(0.5,1,'ARMA model results')"
      ]
     },
     "execution_count": 34,
     "metadata": {},
     "output_type": "execute_result"
    },
    {
     "data": {
      "image/png": "[encoded data removed]",
      "text/plain": [
       "<Figure size 432x288 with 1 Axes>"
      ]
     },
     "metadata": {
      "needs_background": "light"
     },
     "output_type": "display_data"
    }
   ],
   "source": [
    "plt.plot(x_val, label='Original Data')\n",
    "plt.plot(ypred_sar, color='red', label = 'Prediction')\n",
    "plt.legend(loc='best')\n",
    "plt.title('ARMA model results')"
   ]
  },
  {
   "cell_type": "code",
   "execution_count": 36,
   "metadata": {},
   "outputs": [
    {
     "name": "stdout",
     "output_type": "stream",
     "text": [
      "RMSE =  4.736483083365464\n"
     ]
    }
   ],
   "source": [
    "# Calculate Root Mean Squared Error for out-of-sample prediction\n",
    "difference_array = np.subtract(ypred_sar[-24:],rt_lmp_test_val)\n",
    "squared_array = np.square(difference_array)\n",
    "mse = squared_array.mean()\n",
    "rmse = np.sqrt(mse)\n",
    "print('RMSE = ',rmse)"
   ]
  },
  {
   "cell_type": "markdown",
   "metadata": {},
   "source": [
    "Electricity price forecasting can be challenging due to price spikes. Yet I have been able to use a SARIMA statistical time series model to obtain a decent prediction."
   ]
  }
 ],
 "metadata": {
  "kernelspec": {
   "display_name": "Python 3",
   "language": "python",
   "name": "python3"
  },
  "language_info": {
   "codemirror_mode": {
    "name": "ipython",
    "version": 3
   },
   "file_extension": ".py",
   "mimetype": "text/x-python",
   "name": "python",
   "nbconvert_exporter": "python",
   "pygments_lexer": "ipython3",
   "version": "3.7.0"
  }
 },
 "nbformat": 4,
 "nbformat_minor": 2
}
